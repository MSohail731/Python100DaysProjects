{
 "cells": [
  {
   "cell_type": "code",
   "execution_count": 1,
   "metadata": {},
   "outputs": [],
   "source": [
    " import random\n"
   ]
  },
  {
   "cell_type": "code",
   "execution_count": 25,
   "metadata": {},
   "outputs": [
    {
     "name": "stdout",
     "output_type": "stream",
     "text": [
      "camel\n",
      "['_', '_', '_', '_', '_']\n",
      "guess character \n",
      "c\n",
      "['c', '_', '_', '_', '_']\n",
      "guess character \n",
      "a\n",
      "['c', 'a', '_', '_', '_']\n",
      "guess character \n",
      "m\n",
      "['c', 'a', 'm', '_', '_']\n",
      "guess character \n",
      "e\n",
      "['c', 'a', 'm', 'e', '_']\n",
      "guess character \n",
      "l\n",
      "['c', 'a', 'm', 'e', 'l']\n",
      "['c', 'a', 'm', 'e', 'l']\n",
      "camel\n"
     ]
    }
   ],
   "source": [
    "word_list=[\"ardvark\",\"baboon\",\"camel\"]\n",
    "selected_word=word_list[random.randint(0,2)]\n",
    "guessword=[]\n",
    "print(selected_word)\n",
    "\n",
    "for letter in selected_word:\n",
    "    guessword.append(\"_\")\n",
    "print(guessword)\n",
    "    \n",
    "for position in range(len(selected_word)):\n",
    "    user_guess=input(f\"guess character \\n\")\n",
    "    char=selected_word[position]\n",
    "    if char==user_guess:\n",
    "        guessword[position]=char\n",
    "    else:\n",
    "        print(\"wrong\")\n",
    "    print(guessword)\n",
    "\n",
    "print(guessword)\n",
    "print(selected_word)\n",
    "\n",
    "\n",
    "#print(selected_word)"
   ]
  },
  {
   "cell_type": "code",
   "execution_count": null,
   "metadata": {},
   "outputs": [],
   "source": [
    "a"
   ]
  },
  {
   "cell_type": "code",
   "execution_count": null,
   "metadata": {},
   "outputs": [],
   "source": []
  },
  {
   "cell_type": "code",
   "execution_count": null,
   "metadata": {},
   "outputs": [],
   "source": []
  }
 ],
 "metadata": {
  "kernelspec": {
   "display_name": "Python 3",
   "language": "python",
   "name": "python3"
  },
  "language_info": {
   "codemirror_mode": {
    "name": "ipython",
    "version": 3
   },
   "file_extension": ".py",
   "mimetype": "text/x-python",
   "name": "python",
   "nbconvert_exporter": "python",
   "pygments_lexer": "ipython3",
   "version": "3.7.4"
  }
 },
 "nbformat": 4,
 "nbformat_minor": 2
}
